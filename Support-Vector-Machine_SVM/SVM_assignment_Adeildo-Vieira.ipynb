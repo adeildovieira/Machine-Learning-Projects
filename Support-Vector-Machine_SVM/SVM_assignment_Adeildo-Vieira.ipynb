{
 "cells": [
  {
   "cell_type": "markdown",
   "id": "02834891-50ac-4ec9-a5f2-1f6f99c94760",
   "metadata": {},
   "source": [
    "# 1. Learning Objectives\n",
    "\n",
    "The objective of this lab assignment is that you should get hands-on experience with implementing and using a support vector machine from scratch. In particular, you should be able to:\n",
    "\n",
    "* Use the mathematical formulation of the optimization task,\n",
    "* Formulate the indicator function and explain how it relates to the outcome of the classification,\n",
    "* Predict and explain the outcome of using different kernels,\n",
    "* Explain the effect of the C-value when using slack variables.\n",
    "\n",
    "In addition, you will gain some experience in using Python together with the packages numpy, scipy, and matplotlib, commonly used for scientific computing."
   ]
  },
  {
   "cell_type": "markdown",
   "id": "c2eb4913-9e09-4247-97a8-a17fdc172d9a",
   "metadata": {},
   "source": [
    "# 2. Theory\n",
    "\n",
    "The idea is to build a classifier which first makes an transformation of the input data, and then a linear separation where the decision boundary is placed to give maximal margins to the available data points. The location of the decision boundary is given by the weights ($\\vec{w}$) and the bias (b) so the problem is to find the values for ($\\vec{w}$) and b which maximize the margin, i.e. the distance to any datapoint.\n",
    "\n",
    "## 2.1. Dual Formulation\n",
    "\n",
    "Given a constrained optimization problem, known as the primal problem, it is possible to express a different but closely related problem, called its dual problem, as shown in equation 5-3 of the book.\n",
    "\n",
    "Find the values $\\alpha^{(i)}$ which minimize:\n",
    "\\begin{align}\n",
    "\\frac{1}{2} \\sum_{i=1}^m  \\sum_{j=1}^m \\alpha^{(i)}  \\alpha^{(j)} t^{(i)} t^{(j)} {x^{(i)}}^T x^{(j)} -  \\sum_{i=1}^m \\alpha^{(i)}\n",
    "\\end{align}\n",
    "\n",
    "subject to the constraints $\\alpha^{(i)} \\geqslant 0$ for $ i = 1,2,...,m$  and  $\\sum_{i}   \\alpha^{(i)} t^{(i)} = 0$\n",
    "\n",
    "where we have the following notation:\n",
    "\n",
    "* $\\vec{w}$ is the weight vector defining the separating hyperplane\n",
    "* $b$ is the offset (bias) for the hyperplane\n",
    "* ${x}_i$ is the $i^{th}$ data point\n",
    "* $t_i$ is the target class (-1 or 1) for datapoint i\n",
    "\n",
    "Once you find the vector $\\hat{\\alpha}$ that minimizes this equation (using a QP solver), you can compute $\\hat{w}$ and $\\hat{b}$ that minimize the primal problem by using the primal solution shown in equation 5-4 of the book.\n",
    "\n",
    "\\begin{align}\n",
    "\\hat{w} = \\sum_{i=1}^m \\hat{\\alpha}^{(i)} t^{(i)} x^{(i)}\n",
    "\\end{align}\n",
    "\\begin{align}\n",
    "\\hat{b} = \\frac{1}{n_{s}} \\sum_{i=1}^m (t^{(i)} - {\\hat{w}}^T x^{(i)})\n",
    "\\end{align}\n",
    "\n",
    "## 2.2. Adding Slack Variables\n",
    "\n",
    "Instead of requiring that every datapoint is outside the margin we will allow for mistakes, quantified by variables $ \\zeta ^{i}$ (positive values; one for each datapoint). These are called slack variables. The constraints will now be\n",
    "\n",
    "\\begin{align}\n",
    "\\text{minimize}_{w,b,\\zeta} \\frac{1}{2} {w}^T w + C \\sum_{i=1}^m  \\zeta ^{i}\n",
    "\\end{align}\n",
    "subject to \n",
    "\\begin{align}\n",
    "t^{(i)}(w^T x^{(i)} + b) \\geqslant 1 - \\zeta ^{i} \\\\ \\text{  and  } \\zeta ^{i} \\geqslant 0 \\text{  for i = 1,2,...,m}\n",
    "\\end{align}\n",
    "\n",
    "## 2.3. Kernel Functions\n",
    "\n",
    "In Machine Learning, a kernel is a function capable of computing the dot product based only on the original vectors a and b, without having to know about the transformation. The function $K(\\vec{x}_i , \\vec{x}_j)$ is called a kernel function and computes the scalar value corresponding to $\\phi{(x_i)}· \\phi{(x_j)}$. This is, however, normally done implicitly, i.e., without actually computing the two vectors and taking their scalar product\n",
    "\n",
    "Below are some of the most commonly used kernels.\n",
    "\n",
    "Linear: $ K(a,b) = {a}^T b$\n",
    "\n",
    "Polynomial: $ K(a,b) = {({a}^T b + r)}^d $\n",
    "\n",
    "Gaussian RBF: $ K(a,b) = exp(-\\gamma {|| a - b ||}^2) $\n",
    "\n",
    "With the addition of the kernel function, we can rewrite the dual formulation equation from section 2.1 as:\n",
    "\n",
    "Find the values $\\alpha^{(i)}$ which minimize:\n",
    "\\begin{align}\n",
    "\\frac{1}{2} \\sum_{i=1}^m  \\sum_{j=1}^m \\alpha^{(i)}  \\alpha^{(j)} t^{(i)} t^{(j)} K(\\vec{x}_i , \\vec{x}_j) -  \\sum_{i=1}^m \\alpha^{(i)}\n",
    "\\end{align}\n"
   ]
  },
  {
   "cell_type": "markdown",
   "id": "7d6ec56f-a091-44b8-bf8a-df7262d188f0",
   "metadata": {},
   "source": [
    "# 3. Implementation\n",
    "\n",
    "We will use the general purpose optimization function minimize available in the scipy.optimize library as our QP solver. This will work well for the small problems we are dealing with here. For more complex problems, perhaps with thousands of samples, it is better to use one of the special purpose optimizers like LIBSVM developed to be efficient specifically for SVM.\n",
    "\n",
    "Start by importing minimize from scipy.optimize, along with the other packages you will need:\n"
   ]
  },
  {
   "cell_type": "code",
   "execution_count": 1,
   "id": "2843b2f6-5ae5-45ff-af9f-ad458d34be00",
   "metadata": {},
   "outputs": [],
   "source": [
    "import numpy as np\n",
    "import random, math\n",
    "from scipy.optimize import minimize ## This is your QP solver\n",
    "import matplotlib.pyplot as plt"
   ]
  },
  {
   "cell_type": "markdown",
   "id": "a1d06a87-f11a-4238-98f1-7fce31c44786",
   "metadata": {},
   "source": [
    "The heart of your program will be a single call to the minimize function. A call to minimize should look like this pseudocode:\n",
    "```\n",
    "min_ = minimize(objective, alpha_0, bounds = B, constraints = XC)\n",
    "alpha = min_.x\n",
    "```\n",
    "This will find the vector $\\vec{\\alpha}$ which minimizes the function objective within the bounds B and the constraints XC.\n",
    "\n",
    "```objective``` is a function you have to define, which takes a vector $\\vec{\\alpha}$ as argument and returns a scalar value, effectively implementing the expression that should be minimized, in our case the dual formulation equation shown in section 2.1.\n",
    "\n",
    "```alpha_0``` is a vector with the initial guess of the $\\vec{\\alpha}$ vector. We can, e.g., simply use a vector of zeros: numpy.zeros(N). N is here the number of training samples (note that each training sample will have a corresponding ${\\alpha}$-value).\n",
    "\n",
    "B is a list of pairs of the same length as the $\\vec{\\alpha}$ -vector, stating the lower and upper bounds for the corresponding element in $\\vec{\\alpha}$. To constrain the ${\\alpha}$ values to be in the range 0 ≤ ${\\alpha}$ ≤ C, we can set ```bounds=[(0, C) for b in range(N)]```. To only have a lower bound, set the upper bound to ```None``` like this: ```bounds=[(0, None) for b in range(N)].```\n"
   ]
  },
  {
   "cell_type": "markdown",
   "id": "44f2611f-df8b-403a-a479-6695855723d7",
   "metadata": {},
   "source": [
    "## 3.1 Generate test data"
   ]
  },
  {
   "cell_type": "markdown",
   "id": "8db16961-84fe-4c27-a81b-bbd41208cd1c",
   "metadata": {},
   "source": [
    "To test your support vector machine, you will also need code for generating test data and for visualizing the results. In the following sections you will be given code fragments that you can use directly in your program to achieve this. __You will later need to move the clusters around and change their spread by changing the values in this code sample.__\n",
    "\n",
    "Hint: If you insert a call ```“numpy.random.seed(100)”``` before the code that generates the data, you will get the same random data every time you run the program. This can help during debugging."
   ]
  },
  {
   "cell_type": "code",
   "execution_count": 2,
   "id": "9a4103ba-9575-4469-8105-f58c2190af49",
   "metadata": {},
   "outputs": [],
   "source": [
    "# Create dataset\n",
    "classA = np.random.randn(100, 2) * 0.3 + [1.5,0.5]\n",
    "classB = np.random.randn(200, 2) * 0.3 + [0.0, 0.0]"
   ]
  },
  {
   "cell_type": "code",
   "execution_count": 3,
   "id": "8a4ee0e4-be18-4658-ba43-709313fbd109",
   "metadata": {},
   "outputs": [
    {
     "data": {
      "image/png": "[encoded data removed]",
      "text/plain": [
       "<Figure size 640x480 with 1 Axes>"
      ]
     },
     "metadata": {},
     "output_type": "display_data"
    }
   ],
   "source": [
    "# Let us see how our dataset looks\n",
    "plt.plot( [ p[0] for p in classA], [ p[1] for p in classA], 'b. ' )\n",
    "plt.plot( [ p[0] for p in classB], [ p[1] for p in classB], 'r. ' )\n",
    "\n",
    "xgrid = np.linspace(-5, 5)\n",
    "ygrid = np.linspace(-3, 3)\n",
    "\n",
    "plt.axis('equal')           # Force same scale on both axes\n",
    "plt .show()                 # Show the plot on the screen"
   ]
  },
  {
   "cell_type": "code",
   "execution_count": 4,
   "id": "c39cc9bc-77da-4195-90c3-6336aebfb734",
   "metadata": {},
   "outputs": [],
   "source": [
    "# Create vectors with inputs and targets\n",
    "inputs = np.concatenate((classA , classB))  # x and y coordinates for the data\n",
    "targets = np.concatenate((np.ones(classA.shape[0]), -np.ones(classB.shape[0])))  # holds the +1 or -1 values for the inputs, their indices in the list coincide respectively\n",
    "\n",
    "n_train = inputs.shape[0]  # Number of samples\n",
    "\n",
    "#The last four lines randomly reorder the samples. \n",
    "permute = list(range(n_train))\n",
    "random.shuffle(permute)\n",
    "inputs = inputs[permute, : ]  # Training values\n",
    "targets = targets[permute]    # Training labels"
   ]
  },
  {
   "cell_type": "markdown",
   "id": "5e1bef11-831f-434d-aef2-f35685b827b2",
   "metadata": {},
   "source": [
    "## 3.2. For you to implement"
   ]
  },
  {
   "cell_type": "markdown",
   "id": "afc7095e-09ae-4d38-9de3-76169592d5df",
   "metadata": {},
   "source": [
    "You will have to write code for:\n",
    "\n",
    "### 3.2.1 A suitable kernel function:\n",
    "  \n",
    "The kernel function takes two data points as arguments and returns a “scalar product-like” similarity measure; a scalar value. Start with the linear kernel which is the same as an ordinary scalar product, but also explore the other kernels in section 2.3. Create a function for each kernel\n"
   ]
  },
  {
   "cell_type": "code",
   "execution_count": 5,
   "id": "2cdb1808-1e12-45e3-8320-00cc7ae3dade",
   "metadata": {},
   "outputs": [],
   "source": [
    "# Hint: Let gamma and r in the polynomial be 1\n",
    "\n",
    "degree = 2 #hyperparameter for polynomial kernel\n",
    "gamma = 1 #hyperparameter for rbf kernel\n",
    "\n",
    "def linearKernel(x, y):\n",
    "    # return ## TO DO ##\n",
    "    return np.dot(x, y)\n",
    "\n",
    "def polyKernel(x, y, degree, r=1):\n",
    "    # return ## TO DO ##\n",
    "    return (np.dot(x, y) + r) ** degree\n",
    "\n",
    "def rbfKernel(x, y, gamma):\n",
    "    # return ## TO DO ##\n",
    "    return np.exp(-gamma * np.linalg.norm(x - y)**2)\n",
    "\n",
    "# Set which kernel you want to use\n",
    "kernel = linearKernel"
   ]
  },
  {
   "cell_type": "markdown",
   "id": "fdc83c9c-2cd8-46cb-9598-0bd81339a994",
   "metadata": {},
   "source": [
    "### 3.2.2 Implement the function objective\n",
    "\n",
    "Define a function which implements the dual formulation equation shown in section 2.1. This function will only receive the vector $\\vec{\\alpha}$ as a parameter. You can use global variables for other things that the function needs (t and K values).\n",
    "\n",
    "Python hint: This function will be called hundreds of times, so it makes sense to care about efficiency.\n",
    "\n",
    "You can pre-compute a matrix with these values:\n",
    "\\begin{align}\n",
    "P_{i,j} = t_{i}t_{j}K(x_i,x_j)\n",
    "\\end{align}"
   ]
  },
  {
   "cell_type": "code",
   "execution_count": 6,
   "id": "d8c7be44-e4b1-4ce6-ba6d-73476c7e2fcf",
   "metadata": {},
   "outputs": [],
   "source": [
    "# Function to calculate P matrix\n",
    "\n",
    "def __compute_P_mat(t, x, kernel):\n",
    "        P = np.zeros((len(x), len(x)))\n",
    "        for i in range(len(x)):\n",
    "            for j in range(len(x)):\n",
    "                # P[i][j] = ## TO DO ##\n",
    "                P[i][j] = t[i] * t[j] * kernel(x[i], x[j])\n",
    "        return P"
   ]
  },
  {
   "cell_type": "markdown",
   "id": "25e8d20b-334c-4d2a-bd1b-9806c0885818",
   "metadata": {},
   "source": [
    "Indices i and j run over all the data points. Thus, if you have N data points, P should be an N × N matrix. This matrix should be computed only once, outside of the function objective. Therefore, store it as a numpy array in a global variable.\n",
    "Inside the ```objective``` function, you can now make use of the functions ```numpy.dot``` (for vector-vector, vector-matrix, and matrix-vector multiplications), and numpy.sum (for summing the elements of a vector). This is much faster than explicit for-loops in Python.\n"
   ]
  },
  {
   "cell_type": "code",
   "execution_count": 7,
   "id": "f24c156a-3967-4df3-bdaa-75cf42a6057b",
   "metadata": {},
   "outputs": [],
   "source": [
    "# Objective function which we want to minimize\n",
    "\n",
    "def __objective(alpha):\n",
    "        # return ## TO DO ##\n",
    "        return 0.5 * np.dot(alpha, np.dot(P, alpha)) - np.sum(alpha)"
   ]
  },
  {
   "cell_type": "markdown",
   "id": "48364467-02c4-4cde-87c5-20159942af14",
   "metadata": {},
   "source": [
    "### 3.2.3 Implement the function zerofun\n",
    "This function should implement the equality constraint in section 2.1. Also here, you can make use of numpy.dot to be efficient.\n"
   ]
  },
  {
   "cell_type": "code",
   "execution_count": 8,
   "id": "ee39a379-3fda-43cd-93a0-c00d98c70d15",
   "metadata": {},
   "outputs": [],
   "source": [
    "# def __zerofun(alpha):\n",
    "#         return np.dot(np.transpose(alpha), targets)\n",
    "\n",
    "def __zerofun(alpha, targets):\n",
    "    return np.dot(alpha, targets)"
   ]
  },
  {
   "cell_type": "markdown",
   "id": "357b91c5-a621-4e58-b10f-4a54e04e97fc",
   "metadata": {},
   "source": [
    "### 3.2.4 Call minimize\n",
    "Make the call to minimize as indicated in the code sample given in the introduction of section 3. Note that minimize returns a dictionary data structure; this is why we must must use the string 'x' as an index to pick out the actual ${\\alpha}$ values. There are other useful indices that you can use; in particular, the index 'success' holds a boolean value which is True if the optimizer actually found a solution.\n"
   ]
  },
  {
   "cell_type": "code",
   "execution_count": 10,
   "id": "b68702c4-8e55-47b8-94ef-4cd35235cfad",
   "metadata": {},
   "outputs": [
    {
     "ename": "TypeError",
     "evalue": "__zerofun() missing 1 required positional argument: 'targets'",
     "output_type": "error",
     "traceback": [
      "\u001b[0;31m---------------------------------------------------------------------------\u001b[0m",
      "\u001b[0;31mTypeError\u001b[0m                                 Traceback (most recent call last)",
      "Cell \u001b[0;32mIn[10], line 10\u001b[0m\n\u001b[1;32m      7\u001b[0m bounds \u001b[38;5;241m=\u001b[39m [(\u001b[38;5;241m0\u001b[39m, C) \u001b[38;5;28;01mfor\u001b[39;00m b \u001b[38;5;129;01min\u001b[39;00m \u001b[38;5;28mrange\u001b[39m(n_train)]\n\u001b[1;32m      8\u001b[0m constraint \u001b[38;5;241m=\u001b[39m {\u001b[38;5;124m'\u001b[39m\u001b[38;5;124mtype\u001b[39m\u001b[38;5;124m'\u001b[39m:\u001b[38;5;124m'\u001b[39m\u001b[38;5;124meq\u001b[39m\u001b[38;5;124m'\u001b[39m, \u001b[38;5;124m'\u001b[39m\u001b[38;5;124mfun\u001b[39m\u001b[38;5;124m'\u001b[39m:__zerofun}\n\u001b[0;32m---> 10\u001b[0m __min \u001b[38;5;241m=\u001b[39m \u001b[43mminimize\u001b[49m\u001b[43m(\u001b[49m\u001b[43m__objective\u001b[49m\u001b[43m,\u001b[49m\u001b[43m \u001b[49m\u001b[43malpha_0\u001b[49m\u001b[43m,\u001b[49m\u001b[43m \u001b[49m\u001b[43mbounds\u001b[49m\u001b[43m \u001b[49m\u001b[38;5;241;43m=\u001b[39;49m\u001b[43m \u001b[49m\u001b[43mbounds\u001b[49m\u001b[43m,\u001b[49m\u001b[43m \u001b[49m\u001b[43mconstraints\u001b[49m\u001b[43m \u001b[49m\u001b[38;5;241;43m=\u001b[39;49m\u001b[43m \u001b[49m\u001b[43mconstraint\u001b[49m\u001b[43m)\u001b[49m\n\u001b[1;32m     12\u001b[0m \u001b[38;5;66;03m# use the string 'x' as an index to pick out the actual alpha values\u001b[39;00m\n\u001b[1;32m     13\u001b[0m alpha \u001b[38;5;241m=\u001b[39m __min\u001b[38;5;241m.\u001b[39mx\n",
      "File \u001b[0;32m/opt/conda/envs/homl3/lib/python3.10/site-packages/scipy/optimize/_minimize.py:719\u001b[0m, in \u001b[0;36mminimize\u001b[0;34m(fun, x0, args, method, jac, hess, hessp, bounds, constraints, tol, callback, options)\u001b[0m\n\u001b[1;32m    716\u001b[0m     res \u001b[38;5;241m=\u001b[39m _minimize_cobyla(fun, x0, args, constraints, callback\u001b[38;5;241m=\u001b[39mcallback,\n\u001b[1;32m    717\u001b[0m                            bounds\u001b[38;5;241m=\u001b[39mbounds, \u001b[38;5;241m*\u001b[39m\u001b[38;5;241m*\u001b[39moptions)\n\u001b[1;32m    718\u001b[0m \u001b[38;5;28;01melif\u001b[39;00m meth \u001b[38;5;241m==\u001b[39m \u001b[38;5;124m'\u001b[39m\u001b[38;5;124mslsqp\u001b[39m\u001b[38;5;124m'\u001b[39m:\n\u001b[0;32m--> 719\u001b[0m     res \u001b[38;5;241m=\u001b[39m \u001b[43m_minimize_slsqp\u001b[49m\u001b[43m(\u001b[49m\u001b[43mfun\u001b[49m\u001b[43m,\u001b[49m\u001b[43m \u001b[49m\u001b[43mx0\u001b[49m\u001b[43m,\u001b[49m\u001b[43m \u001b[49m\u001b[43margs\u001b[49m\u001b[43m,\u001b[49m\u001b[43m \u001b[49m\u001b[43mjac\u001b[49m\u001b[43m,\u001b[49m\u001b[43m \u001b[49m\u001b[43mbounds\u001b[49m\u001b[43m,\u001b[49m\n\u001b[1;32m    720\u001b[0m \u001b[43m                          \u001b[49m\u001b[43mconstraints\u001b[49m\u001b[43m,\u001b[49m\u001b[43m \u001b[49m\u001b[43mcallback\u001b[49m\u001b[38;5;241;43m=\u001b[39;49m\u001b[43mcallback\u001b[49m\u001b[43m,\u001b[49m\u001b[43m \u001b[49m\u001b[38;5;241;43m*\u001b[39;49m\u001b[38;5;241;43m*\u001b[39;49m\u001b[43moptions\u001b[49m\u001b[43m)\u001b[49m\n\u001b[1;32m    721\u001b[0m \u001b[38;5;28;01melif\u001b[39;00m meth \u001b[38;5;241m==\u001b[39m \u001b[38;5;124m'\u001b[39m\u001b[38;5;124mtrust-constr\u001b[39m\u001b[38;5;124m'\u001b[39m:\n\u001b[1;32m    722\u001b[0m     res \u001b[38;5;241m=\u001b[39m _minimize_trustregion_constr(fun, x0, args, jac, hess, hessp,\n\u001b[1;32m    723\u001b[0m                                        bounds, constraints,\n\u001b[1;32m    724\u001b[0m                                        callback\u001b[38;5;241m=\u001b[39mcallback, \u001b[38;5;241m*\u001b[39m\u001b[38;5;241m*\u001b[39moptions)\n",
      "File \u001b[0;32m/opt/conda/envs/homl3/lib/python3.10/site-packages/scipy/optimize/_slsqp_py.py:327\u001b[0m, in \u001b[0;36m_minimize_slsqp\u001b[0;34m(func, x0, args, jac, bounds, constraints, maxiter, ftol, iprint, disp, eps, callback, finite_diff_rel_step, **unknown_options)\u001b[0m\n\u001b[1;32m    313\u001b[0m exit_modes \u001b[38;5;241m=\u001b[39m {\u001b[38;5;241m-\u001b[39m\u001b[38;5;241m1\u001b[39m: \u001b[38;5;124m\"\u001b[39m\u001b[38;5;124mGradient evaluation required (g & a)\u001b[39m\u001b[38;5;124m\"\u001b[39m,\n\u001b[1;32m    314\u001b[0m                \u001b[38;5;241m0\u001b[39m: \u001b[38;5;124m\"\u001b[39m\u001b[38;5;124mOptimization terminated successfully\u001b[39m\u001b[38;5;124m\"\u001b[39m,\n\u001b[1;32m    315\u001b[0m                \u001b[38;5;241m1\u001b[39m: \u001b[38;5;124m\"\u001b[39m\u001b[38;5;124mFunction evaluation required (f & c)\u001b[39m\u001b[38;5;124m\"\u001b[39m,\n\u001b[0;32m   (...)\u001b[0m\n\u001b[1;32m    322\u001b[0m                \u001b[38;5;241m8\u001b[39m: \u001b[38;5;124m\"\u001b[39m\u001b[38;5;124mPositive directional derivative for linesearch\u001b[39m\u001b[38;5;124m\"\u001b[39m,\n\u001b[1;32m    323\u001b[0m                \u001b[38;5;241m9\u001b[39m: \u001b[38;5;124m\"\u001b[39m\u001b[38;5;124mIteration limit reached\u001b[39m\u001b[38;5;124m\"\u001b[39m}\n\u001b[1;32m    325\u001b[0m \u001b[38;5;66;03m# Set the parameters that SLSQP will need\u001b[39;00m\n\u001b[1;32m    326\u001b[0m \u001b[38;5;66;03m# meq, mieq: number of equality and inequality constraints\u001b[39;00m\n\u001b[0;32m--> 327\u001b[0m meq \u001b[38;5;241m=\u001b[39m \u001b[38;5;28msum\u001b[39m(\u001b[38;5;28mmap\u001b[39m(\u001b[38;5;28mlen\u001b[39m, [atleast_1d(c[\u001b[38;5;124m'\u001b[39m\u001b[38;5;124mfun\u001b[39m\u001b[38;5;124m'\u001b[39m](x, \u001b[38;5;241m*\u001b[39mc[\u001b[38;5;124m'\u001b[39m\u001b[38;5;124margs\u001b[39m\u001b[38;5;124m'\u001b[39m]))\n\u001b[1;32m    328\u001b[0m           \u001b[38;5;28;01mfor\u001b[39;00m c \u001b[38;5;129;01min\u001b[39;00m cons[\u001b[38;5;124m'\u001b[39m\u001b[38;5;124meq\u001b[39m\u001b[38;5;124m'\u001b[39m]]))\n\u001b[1;32m    329\u001b[0m mieq \u001b[38;5;241m=\u001b[39m \u001b[38;5;28msum\u001b[39m(\u001b[38;5;28mmap\u001b[39m(\u001b[38;5;28mlen\u001b[39m, [atleast_1d(c[\u001b[38;5;124m'\u001b[39m\u001b[38;5;124mfun\u001b[39m\u001b[38;5;124m'\u001b[39m](x, \u001b[38;5;241m*\u001b[39mc[\u001b[38;5;124m'\u001b[39m\u001b[38;5;124margs\u001b[39m\u001b[38;5;124m'\u001b[39m]))\n\u001b[1;32m    330\u001b[0m            \u001b[38;5;28;01mfor\u001b[39;00m c \u001b[38;5;129;01min\u001b[39;00m cons[\u001b[38;5;124m'\u001b[39m\u001b[38;5;124mineq\u001b[39m\u001b[38;5;124m'\u001b[39m]]))\n\u001b[1;32m    331\u001b[0m \u001b[38;5;66;03m# m = The total number of constraints\u001b[39;00m\n",
      "File \u001b[0;32m/opt/conda/envs/homl3/lib/python3.10/site-packages/scipy/optimize/_slsqp_py.py:327\u001b[0m, in \u001b[0;36m<listcomp>\u001b[0;34m(.0)\u001b[0m\n\u001b[1;32m    313\u001b[0m exit_modes \u001b[38;5;241m=\u001b[39m {\u001b[38;5;241m-\u001b[39m\u001b[38;5;241m1\u001b[39m: \u001b[38;5;124m\"\u001b[39m\u001b[38;5;124mGradient evaluation required (g & a)\u001b[39m\u001b[38;5;124m\"\u001b[39m,\n\u001b[1;32m    314\u001b[0m                \u001b[38;5;241m0\u001b[39m: \u001b[38;5;124m\"\u001b[39m\u001b[38;5;124mOptimization terminated successfully\u001b[39m\u001b[38;5;124m\"\u001b[39m,\n\u001b[1;32m    315\u001b[0m                \u001b[38;5;241m1\u001b[39m: \u001b[38;5;124m\"\u001b[39m\u001b[38;5;124mFunction evaluation required (f & c)\u001b[39m\u001b[38;5;124m\"\u001b[39m,\n\u001b[0;32m   (...)\u001b[0m\n\u001b[1;32m    322\u001b[0m                \u001b[38;5;241m8\u001b[39m: \u001b[38;5;124m\"\u001b[39m\u001b[38;5;124mPositive directional derivative for linesearch\u001b[39m\u001b[38;5;124m\"\u001b[39m,\n\u001b[1;32m    323\u001b[0m                \u001b[38;5;241m9\u001b[39m: \u001b[38;5;124m\"\u001b[39m\u001b[38;5;124mIteration limit reached\u001b[39m\u001b[38;5;124m\"\u001b[39m}\n\u001b[1;32m    325\u001b[0m \u001b[38;5;66;03m# Set the parameters that SLSQP will need\u001b[39;00m\n\u001b[1;32m    326\u001b[0m \u001b[38;5;66;03m# meq, mieq: number of equality and inequality constraints\u001b[39;00m\n\u001b[0;32m--> 327\u001b[0m meq \u001b[38;5;241m=\u001b[39m \u001b[38;5;28msum\u001b[39m(\u001b[38;5;28mmap\u001b[39m(\u001b[38;5;28mlen\u001b[39m, [atleast_1d(\u001b[43mc\u001b[49m\u001b[43m[\u001b[49m\u001b[38;5;124;43m'\u001b[39;49m\u001b[38;5;124;43mfun\u001b[39;49m\u001b[38;5;124;43m'\u001b[39;49m\u001b[43m]\u001b[49m\u001b[43m(\u001b[49m\u001b[43mx\u001b[49m\u001b[43m,\u001b[49m\u001b[43m \u001b[49m\u001b[38;5;241;43m*\u001b[39;49m\u001b[43mc\u001b[49m\u001b[43m[\u001b[49m\u001b[38;5;124;43m'\u001b[39;49m\u001b[38;5;124;43margs\u001b[39;49m\u001b[38;5;124;43m'\u001b[39;49m\u001b[43m]\u001b[49m\u001b[43m)\u001b[49m)\n\u001b[1;32m    328\u001b[0m           \u001b[38;5;28;01mfor\u001b[39;00m c \u001b[38;5;129;01min\u001b[39;00m cons[\u001b[38;5;124m'\u001b[39m\u001b[38;5;124meq\u001b[39m\u001b[38;5;124m'\u001b[39m]]))\n\u001b[1;32m    329\u001b[0m mieq \u001b[38;5;241m=\u001b[39m \u001b[38;5;28msum\u001b[39m(\u001b[38;5;28mmap\u001b[39m(\u001b[38;5;28mlen\u001b[39m, [atleast_1d(c[\u001b[38;5;124m'\u001b[39m\u001b[38;5;124mfun\u001b[39m\u001b[38;5;124m'\u001b[39m](x, \u001b[38;5;241m*\u001b[39mc[\u001b[38;5;124m'\u001b[39m\u001b[38;5;124margs\u001b[39m\u001b[38;5;124m'\u001b[39m]))\n\u001b[1;32m    330\u001b[0m            \u001b[38;5;28;01mfor\u001b[39;00m c \u001b[38;5;129;01min\u001b[39;00m cons[\u001b[38;5;124m'\u001b[39m\u001b[38;5;124mineq\u001b[39m\u001b[38;5;124m'\u001b[39m]]))\n\u001b[1;32m    331\u001b[0m \u001b[38;5;66;03m# m = The total number of constraints\u001b[39;00m\n",
      "\u001b[0;31mTypeError\u001b[0m: __zerofun() missing 1 required positional argument: 'targets'"
     ]
    }
   ],
   "source": [
    "## Set your slack variable C\n",
    "C = 100\n",
    "\n",
    "## Compute the P matrix\n",
    "P = __compute_P_mat(targets, inputs, kernel = linearKernel)\n",
    "alpha_0 = np.zeros(n_train)\n",
    "bounds = [(0, C) for b in range(n_train)]\n",
    "constraint = {'type':'eq', 'fun':__zerofun}\n",
    "\n",
    "__min = minimize(__objective, alpha_0, bounds = bounds, constraints = constraint)\n",
    "\n",
    "# use the string 'x' as an index to pick out the actual alpha values\n",
    "alpha = __min.x\n",
    "\n",
    "# see if the optimizer found a solution\n",
    "if __min.success:\n",
    "    print(\"Success\")\n",
    "else:\n",
    "    print(\"ERROR: Optimization didnt converge\")\n"
   ]
  },
  {
   "cell_type": "markdown",
   "id": "b2211717-89a1-448e-82e0-00bd8261f9ba",
   "metadata": {},
   "source": [
    "### 3.2.5 Extract the non-zero α values\n",
    "\n",
    "If the data is well separated, only a few of the α values will be non-zero. Since we are dealing with floating point values, however, those that are supposed to be zero will in reality only be approximately zero. Therefore, use a low threshold (10−5 should work fine) to determine which are to be regarded as non-zero.\n",
    "\n",
    "You need to save the non-zero αi’s along with the corresponding data points (xi) and target values (ti) in a separate data structure, for instance a list."
   ]
  },
  {
   "cell_type": "code",
   "execution_count": null,
   "id": "cba7ea60-0239-43c0-a6cf-78eb94d90bc4",
   "metadata": {},
   "outputs": [],
   "source": [
    "epsilon = 1e-5\n",
    "\n",
    "non_zero_vals = []\n",
    "for i in range(len(alpha)):\n",
    "    if alpha[i] > epsilon:\n",
    "        non_zero_vals.append((alpha[i], inputs[i], targets[i]))\n"
   ]
  },
  {
   "cell_type": "markdown",
   "id": "391762d2-85ae-46f0-83c7-3e6c6f395755",
   "metadata": {},
   "source": [
    "### 3.2.6 Calculate the b value\n",
    "Note that you must use a point on the margin. This corresponds to a\n",
    "point with an α-value larger than zero, but less than C (if slack is used). To compute the b value we need to use equation 5-12 from the book:\n",
    "\\begin{align}\n",
    "\\hat{b} = \\frac{1}{n_s} \\sum_{i=1}^m \\left( t^{i} - \\sum_{j=1}^m \\hat{\\alpha}^{(j)} t^{(j)} K(x^{(i)},x^{(j)}) \\right)\n",
    "\\end{align}"
   ]
  },
  {
   "cell_type": "code",
   "execution_count": null,
   "id": "735a7c1b-45c0-4c90-9d3c-370388e0736f",
   "metadata": {},
   "outputs": [],
   "source": [
    "def __compute_b():\n",
    "    support_vector = non_zero_vals[0][1]\n",
    "    t_support = non_zero_vals[0][2]\n",
    "    \n",
    "    for alpha, x, t in non_zero_vals:\n",
    "        if alpha < C:\n",
    "            t_support = t\n",
    "            support_vector = x\n",
    "\n",
    "    if t_support == 0:\n",
    "        print(\"ERROR: Couldn't find alpha < C\")\n",
    "        return 0\n",
    "\n",
    "    b_result = 0\n",
    "    for alpha, x, t in non_zero_vals:\n",
    "        b_result += alpha*t*kernel(support_vector, x)\n",
    "    return b_result - t_support\n",
    "\n",
    "b = __compute_b()"
   ]
  },
  {
   "cell_type": "markdown",
   "id": "f45385d5-dd0c-4985-b0ae-af02f9d29062",
   "metadata": {},
   "source": [
    "### 3.2.7 Implement the indicator function\n",
    "Implement the indicator function which uses the non-zero $\\alpha_{i}$’s together with their xi’s and ti’s to classify new points. This corresponds to equation 5-11 from the book:\n",
    "\n",
    "\\begin{align}\n",
    "h_{\\hat{w},\\hat{b}}(\\phi (x^{(n)})) = \\sum_{i=1}^m \\hat{\\alpha}^{(i)} t^{(i)} K(x^{(i)},x^{(n)}) - \\hat{b}\n",
    "\\end{align}\n",
    "where \n",
    "$\\hat{\\alpha}^{(i)} > 0$\n",
    " \n"
   ]
  },
  {
   "cell_type": "code",
   "execution_count": null,
   "id": "304d1a43-9d1f-4492-809e-86ad9c75680d",
   "metadata": {},
   "outputs": [],
   "source": [
    "def indicator(point):\n",
    "\n",
    "    ## TO DO ##\n",
    "    total = 0\n",
    "    for alpha, xi, ti in non_zero_vals:\n",
    "        total += alpha * ti * kernel(xi, point)\n",
    "        \n",
    "    return total - b"
   ]
  },
  {
   "cell_type": "markdown",
   "id": "da5bc520-a539-457f-be63-8a74939ca83a",
   "metadata": {},
   "source": [
    "# 4. Plotting\n",
    "\n",
    "In order to see your data, you can use the plot functions from matplotlib. This code will plot your two classes using blue and red dots."
   ]
  },
  {
   "cell_type": "markdown",
   "id": "ad5ddd1a-6b73-4efb-8d41-548c4fdfd145",
   "metadata": {},
   "source": [
    "## 4.1. Plotting the decision boundary"
   ]
  },
  {
   "cell_type": "code",
   "execution_count": null,
   "id": "134946d3-ee37-4af4-9421-cd580f3aa882",
   "metadata": {},
   "outputs": [],
   "source": [
    "def plot(classA, classB):\n",
    "        plt.plot( [ p[0] for p in classA], [ p[1] for p in classA], 'b. ' )\n",
    "        plt.plot( [ p[0] for p in classB], [ p[1] for p in classB], 'r. ' )\n",
    "\n",
    "        xgrid = np.linspace(-5, 5)\n",
    "        ygrid = np.linspace(-3, 3)\n",
    "        grid = np.array([[indicator(np.array((x,y)))\n",
    "                            for x in xgrid]\n",
    "                            for y in ygrid])\n",
    "\n",
    "        plt.contour(xgrid, ygrid, grid, (-1.0, 0.0, 1.0),\n",
    "                    colors = (\"red\", \"black\", \"blue\"),\n",
    "                    linewidths = (1, 3, 1))\n",
    "        plt.title(kernel)\n",
    "        plt.axis('equal')           # Force same scale on both axes\n",
    "        plt.savefig('svmplot.png')  # Save a copy in a file\n",
    "        plt .show()                 # Show the plot on the screen\n"
   ]
  },
  {
   "cell_type": "code",
   "execution_count": null,
   "id": "6465a341-c3b9-4929-a6d2-417492e32fcf",
   "metadata": {},
   "outputs": [],
   "source": [
    "plot(classA, classB)"
   ]
  },
  {
   "cell_type": "markdown",
   "id": "ab2331fc-dabf-492a-b542-ba11604c1b2b",
   "metadata": {},
   "source": [
    "# 5. Exploring and Reporting"
   ]
  },
  {
   "cell_type": "markdown",
   "id": "9cb03132-d270-468d-9711-0f101db5b119",
   "metadata": {},
   "source": [
    "## 5.1 Exploring with linear kernel\n",
    "(1) Move the clusters in the given dataset around and change their sizes to make it easier or harder for the linear classifier to find a good boundary (for example by overlapping the dataset). Illustrate your answer using labelled plots.\n",
    "\n",
    "(2) Describe whether the optimizer fails to converge in some cases and why. Illustrate your answer using labelled plots."
   ]
  },
  {
   "cell_type": "code",
   "execution_count": null,
   "id": "f88e1285-f16c-4cb8-a966-c65222d7c3fb",
   "metadata": {},
   "outputs": [],
   "source": []
  },
  {
   "cell_type": "code",
   "execution_count": null,
   "id": "233ee1ea-d508-4e6c-92ca-f51f45d217d1",
   "metadata": {},
   "outputs": [],
   "source": []
  },
  {
   "cell_type": "markdown",
   "id": "b14ec966-fe4d-48ba-957f-ef91973a0bcf",
   "metadata": {},
   "source": [
    "## 5.2 Testing non-linear kernels\n",
    "Once you have the linear kernel up and running, you can explore a dataset that is not linearly separable.\n",
    "\n",
    "(1) Try to use a polynomial kernel to classify the dataset below.\n",
    "\n",
    "(2) Try to use an rbf kernel to classify the dataset below. Below is an example of how the RBF kernel could look."
   ]
  },
  {
   "cell_type": "code",
   "execution_count": null,
   "id": "081d2648-68f0-41f8-92cc-c565761a198b",
   "metadata": {},
   "outputs": [],
   "source": []
  },
  {
   "cell_type": "code",
   "execution_count": null,
   "id": "126a0a0d-b48a-4b78-8a12-7f60c5352c21",
   "metadata": {},
   "outputs": [],
   "source": []
  },
  {
   "attachments": {},
   "cell_type": "markdown",
   "id": "8cb41d23-ffa5-426a-ae70-a71f18ccd403",
   "metadata": {},
   "source": [
    "## 5.3 Kernel parameters\n",
    "\n",
    "(1) Explore how the degree parameter of the polynomial kernel influences the decision boundary. Reason about this in terms of the bias variance trade-off. Explain using plots.\n",
    "\n",
    "(2) Explore how the gamma parameter of the RBF kernel influences the decision boundary. Reason about this in terms of the bias variance trade-off. Explain using plots."
   ]
  },
  {
   "attachments": {},
   "cell_type": "markdown",
   "id": "338f8061-25ea-434e-ada5-53c96b684bae",
   "metadata": {},
   "source": [
    "## 5.4 Slack parameter\n",
    "Explore the role of the slack parameter C for the various kernels. What happens for very large/small values? Illustrate your answer with plots."
   ]
  },
  {
   "cell_type": "markdown",
   "id": "4787b500-52f1-46eb-b2a9-b8be822dce55",
   "metadata": {},
   "source": [
    "## 5.5 Sklearn SVM\n",
    "Sklearn have a package for implementing SVMs. Apply this model to the generated data - how does the RBF kernel compare with the ones you have created? Explain using plots. Hint: You can make use of the model.decision function to plot the decision boundary."
   ]
  },
  {
   "cell_type": "code",
   "execution_count": null,
   "id": "987cf5ff-a44d-47a6-b8ee-94ff2d7125c3",
   "metadata": {},
   "outputs": [],
   "source": [
    "from sklearn import svm\n",
    "\n",
    "SVC = svm.SVC(kernel = 'rbf', C=1, gamma = 1)\n",
    "SVC.fit(inputs, targets)"
   ]
  }
 ],
 "metadata": {
  "kernelspec": {
   "display_name": "Python 3 (ipykernel)",
   "language": "python",
   "name": "python3"
  },
  "language_info": {
   "codemirror_mode": {
    "name": "ipython",
    "version": 3
   },
   "file_extension": ".py",
   "mimetype": "text/x-python",
   "name": "python",
   "nbconvert_exporter": "python",
   "pygments_lexer": "ipython3",
   "version": "3.10.13"
  }
 },
 "nbformat": 4,
 "nbformat_minor": 5
}
